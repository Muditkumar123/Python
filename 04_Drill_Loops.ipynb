{
 "cells": [
  {
   "cell_type": "markdown",
   "source": [
    "# Exercises"
   ],
   "metadata": {}
  },
  {
   "cell_type": "markdown",
   "source": [
    "## Question 1"
   ],
   "metadata": {}
  },
  {
   "cell_type": "markdown",
   "source": [
    "**Input the value such that program prints thank you message 5 times.**"
   ],
   "metadata": {}
  },
  {
   "cell_type": "code",
   "execution_count": 1,
   "source": [
    "for i in range(5):\r\n",
    "    print(\"Thank you\")\r\n",
    "    "
   ],
   "outputs": [
    {
     "output_type": "stream",
     "name": "stdout",
     "text": [
      "Thank you\n",
      "Thank you\n",
      "Thank you\n",
      "Thank you\n",
      "Thank you\n"
     ]
    }
   ],
   "metadata": {}
  },
  {
   "cell_type": "markdown",
   "source": [
    "## Question 2"
   ],
   "metadata": {}
  },
  {
   "cell_type": "markdown",
   "source": [
    "**Input the value such that program prints message 5 times.**"
   ],
   "metadata": {}
  },
  {
   "cell_type": "code",
   "execution_count": 2,
   "source": [
    "a=input(\"Input your message\")\r\n",
    "for i in range(5):\r\n",
    "    print(a)"
   ],
   "outputs": [
    {
     "output_type": "stream",
     "name": "stdout",
     "text": [
      "\n",
      "\n",
      "\n",
      "\n",
      "\n"
     ]
    }
   ],
   "metadata": {}
  },
  {
   "cell_type": "markdown",
   "source": [
    "## Question 3"
   ],
   "metadata": {}
  },
  {
   "cell_type": "markdown",
   "source": [
    "**Write a python program to find *factorial* of a number.**"
   ],
   "metadata": {}
  },
  {
   "cell_type": "code",
   "execution_count": 3,
   "source": [
    "num = int(input(\"Enter a number: \"))    \r\n",
    "factorial = 1    \r\n",
    "if num < 0:    \r\n",
    "   print(\" Factorial does not exist for negative numbers\")    \r\n",
    "elif num == 0:    \r\n",
    "   print(\"The factorial of 0 is 1\")    \r\n",
    "else:    \r\n",
    "   for i in range(1,num + 1):    \r\n",
    "       factorial = factorial*i    \r\n",
    "   print(\"The factorial of\",num,\"is\",factorial)"
   ],
   "outputs": [
    {
     "output_type": "error",
     "ename": "ValueError",
     "evalue": "invalid literal for int() with base 10: ''",
     "traceback": [
      "\u001b[1;31m---------------------------------------------------------------------------\u001b[0m",
      "\u001b[1;31mValueError\u001b[0m                                Traceback (most recent call last)",
      "\u001b[1;32m<ipython-input-3-79c36dc99410>\u001b[0m in \u001b[0;36m<module>\u001b[1;34m\u001b[0m\n\u001b[1;32m----> 1\u001b[1;33m \u001b[0mnum\u001b[0m \u001b[1;33m=\u001b[0m \u001b[0mint\u001b[0m\u001b[1;33m(\u001b[0m\u001b[0minput\u001b[0m\u001b[1;33m(\u001b[0m\u001b[1;34m\"Enter a number: \"\u001b[0m\u001b[1;33m)\u001b[0m\u001b[1;33m)\u001b[0m\u001b[1;33m\u001b[0m\u001b[1;33m\u001b[0m\u001b[0m\n\u001b[0m\u001b[0;32m      2\u001b[0m \u001b[0mfactorial\u001b[0m \u001b[1;33m=\u001b[0m \u001b[1;36m1\u001b[0m\u001b[1;33m\u001b[0m\u001b[1;33m\u001b[0m\u001b[0m\n\u001b[0;32m      3\u001b[0m \u001b[1;32mif\u001b[0m \u001b[0mnum\u001b[0m \u001b[1;33m<\u001b[0m \u001b[1;36m0\u001b[0m\u001b[1;33m:\u001b[0m\u001b[1;33m\u001b[0m\u001b[1;33m\u001b[0m\u001b[0m\n\u001b[0;32m      4\u001b[0m    \u001b[0mprint\u001b[0m\u001b[1;33m(\u001b[0m\u001b[1;34m\" Factorial does not exist for negative numbers\"\u001b[0m\u001b[1;33m)\u001b[0m\u001b[1;33m\u001b[0m\u001b[1;33m\u001b[0m\u001b[0m\n\u001b[0;32m      5\u001b[0m \u001b[1;32melif\u001b[0m \u001b[0mnum\u001b[0m \u001b[1;33m==\u001b[0m \u001b[1;36m0\u001b[0m\u001b[1;33m:\u001b[0m\u001b[1;33m\u001b[0m\u001b[1;33m\u001b[0m\u001b[0m\n",
      "\u001b[1;31mValueError\u001b[0m: invalid literal for int() with base 10: ''"
     ]
    }
   ],
   "metadata": {}
  },
  {
   "cell_type": "markdown",
   "source": [
    "**Write a program to check whether given number is a *prime number or not*.**"
   ],
   "metadata": {}
  },
  {
   "cell_type": "code",
   "execution_count": null,
   "source": [
    "flag=True\r\n",
    "a=int(input(\"Input your number:\"))\r\n",
    "for i in range(2,int(a/2)+1):\r\n",
    "    if a%i==0:\r\n",
    "        flag=False\r\n",
    "        break\r\n",
    "\r\n",
    "\r\n",
    "if flag==True:\r\n",
    "    print(f\"{a} is Prime\")\r\n",
    "elif flag==False:\r\n",
    "    print(f\"{a} is not prime\")    \r\n",
    "\r\n"
   ],
   "outputs": [],
   "metadata": {}
  },
  {
   "cell_type": "markdown",
   "source": [
    "## Question 5"
   ],
   "metadata": {}
  },
  {
   "cell_type": "markdown",
   "source": [
    "**Write a python program to print all *prime numbers* between two given numbers.**"
   ],
   "metadata": {}
  },
  {
   "cell_type": "code",
   "execution_count": null,
   "source": [
    "flag=True\r\n",
    "a=int(input(\"Input 1st number:\"))\r\n",
    "b=int(input(\"Input 2nd number:\"))\r\n",
    "\r\n",
    "for j in range(a,b+1):\r\n",
    "      if j>1:\r\n",
    "          for i in range(2,j):\r\n",
    "              if (j % i) == 0:\r\n",
    "                  break   \r\n",
    "                \r\n",
    "              else:\r\n",
    "                  print(j) \r\n",
    "                \r\n",
    "              \r\n",
    "\r\n",
    "\r\n",
    "\r\n",
    "\r\n",
    "\r\n",
    "\r\n",
    "\r\n",
    "\r\n",
    "\r\n",
    "    \r\n",
    "\r\n"
   ],
   "outputs": [],
   "metadata": {}
  },
  {
   "cell_type": "markdown",
   "source": [
    "## Question 6"
   ],
   "metadata": {}
  },
  {
   "cell_type": "markdown",
   "source": [
    "**Write a program to find *HCF* of two numbers.**"
   ],
   "metadata": {}
  },
  {
   "cell_type": "code",
   "execution_count": null,
   "source": [
    "n1=int(input(\"Input 1st number:\"))\r\n",
    "n2=int(input(\"Input 2nd number:\"))\r\n",
    "j=None\r\n",
    "hcf=None\r\n",
    "if n1<n2:\r\n",
    "    j=n1\r\n",
    "else:\r\n",
    "    j=n2\r\n",
    "\r\n",
    "for i in range(1,j+1):\r\n",
    "     if(n1%i==0 and n2%i==0):\r\n",
    "         hcf=i\r\n",
    "\r\n",
    "\r\n",
    "print(f\"Hcf of {n1} and {n2}:{hcf}\")"
   ],
   "outputs": [],
   "metadata": {}
  },
  {
   "cell_type": "markdown",
   "source": [
    "## Question 7"
   ],
   "metadata": {}
  },
  {
   "cell_type": "markdown",
   "source": [
    "**Write a python program to print following pattern:**\r\n",
    "    "
   ],
   "metadata": {}
  },
  {
   "cell_type": "markdown",
   "source": [
    " **1**\r\n",
    "\r\n",
    " **1 2**\r\n",
    "\r\n",
    " **1 2 3**\r\n",
    "\r\n",
    " **1 2 3 4**\r\n",
    "\r\n",
    " **1 2 3 4 5**\r\n",
    "\r\n",
    " **1 2 3 4 5 6**"
   ],
   "metadata": {}
  },
  {
   "cell_type": "code",
   "execution_count": null,
   "source": [
    "for i in range(1,7):\r\n",
    "    for j in range(1,i+1):\r\n",
    "        print(f\"{j}\",end=\"\")\r\n",
    "    print()\r\n",
    "        "
   ],
   "outputs": [],
   "metadata": {}
  },
  {
   "cell_type": "markdown",
   "source": [
    "## Question 8"
   ],
   "metadata": {}
  },
  {
   "cell_type": "markdown",
   "source": [
    "**(*Display the first days of each month*) Write a program that prompts the user to enter the year and first day of the year, and displays the first day of each month in the year on the console. \n",
    "For example, if the user entered year 2013, and 2 for *Tuesday, January 1, 2013*, your program should display the following output:**\n",
    "\n",
    "         January 1, 2013 is Tuesday\n",
    "         ...\n",
    "         December 1, 2013 is Sunday"
   ],
   "metadata": {}
  },
  {
   "cell_type": "code",
   "execution_count": null,
   "source": [],
   "outputs": [],
   "metadata": {}
  },
  {
   "cell_type": "markdown",
   "source": [
    "## Question 9"
   ],
   "metadata": {}
  },
  {
   "cell_type": "markdown",
   "source": [
    "**(*Financial application: compound value*) Suppose you save $100 each month into a savings account with the annual interest rate 5 percent. So, the monthly interest rate is 0.05/12 = 0.00417. After the first month, the value in the account becomes**\r\n",
    "\r\n",
    "                          100 * (1 + 0.00417) = 100.417\r\n",
    "\r\n",
    "**After the second month, the value in the account becomes**\r\n",
    "\r\n",
    "                    (100 + 100.417) * (1 + 0.00417) = 201.252\r\n",
    "\r\n",
    "**After the third month, the value in the account becomes**\r\n",
    "\r\n",
    "                       (100 + 201.252) * (1 + 0.00417) = 302.507 \r\n",
    "   \r\n",
    "**and so on.**\r\n",
    "\r\n",
    "**Write a program that prompts the user to enter an amount (e.g., 100), the annual interest rate (e.g., 5), and the number of months (e.g., 6), and displays the amount in the savings account after the given month.**"
   ],
   "metadata": {}
  },
  {
   "cell_type": "code",
   "execution_count": null,
   "source": [
    "amount=float(input(\"Enter an amount:\"))\r\n",
    "rate=float(input(\"Enter the annual interest rate:\"))\r\n",
    "months=int(input(\"Enter the months:\"))\r\n",
    "rate=(rate/100)/12\r\n",
    "total=amount*(1+rate)\r\n",
    "print(\"1st month account value:{total}\")\r\n",
    "for i in range(2,months+1):\r\n",
    "    total=(amount+total)*(1+rate)\r\n",
    "    print(f\"{i} account value:{total}\")\r\n",
    "\r\n",
    "\r\n",
    "\r\n",
    "\r\n"
   ],
   "outputs": [],
   "metadata": {}
  },
  {
   "cell_type": "markdown",
   "source": [
    "## Question 10"
   ],
   "metadata": {}
  },
  {
   "cell_type": "markdown",
   "source": [
    "**Revisit the project *Rock, Scissor and Paper* in Decisions.\n",
    "Revise the program to let the user play contin- uously until either the user or the computer wins more than two times consecutively.**"
   ],
   "metadata": {}
  },
  {
   "cell_type": "code",
   "execution_count": null,
   "source": [],
   "outputs": [],
   "metadata": {}
  },
  {
   "cell_type": "markdown",
   "source": [
    "## Question 11"
   ],
   "metadata": {}
  },
  {
   "cell_type": "markdown",
   "source": [
    "**Write a program to print *multiplication table* for a given number.**"
   ],
   "metadata": {}
  },
  {
   "cell_type": "code",
   "execution_count": null,
   "source": [
    "n1=int(input(\"Input 1st number:\"))\r\n",
    "\r\n",
    "for i in range(1,11):\r\n",
    "     print(f\"{n1}*{i}={n1*i}\")\r\n",
    "\r\n",
    "\r\n"
   ],
   "outputs": [],
   "metadata": {}
  },
  {
   "cell_type": "markdown",
   "source": [
    "## Question 12"
   ],
   "metadata": {}
  },
  {
   "cell_type": "markdown",
   "source": [
    "**Write a program to check whether given number is a *armstrong number or not*.**"
   ],
   "metadata": {}
  },
  {
   "cell_type": "code",
   "execution_count": null,
   "source": [
    "import math\r\n",
    "n=int(input(\"Input  number:\"))\r\n",
    "originalnum=n\r\n",
    "order=len(str(originalnum))\r\n",
    "result=0\r\n",
    "remainder=0\r\n",
    "\r\n",
    "while originalnum>0:\r\n",
    "    remainder=originalnum%10\r\n",
    "    result=result+int(math.pow(remainder,order))\r\n",
    "    originalnum //=10\r\n",
    "\r\n",
    "if n==result:\r\n",
    "    print(\"Yes\")\r\n",
    "else:\r\n",
    "    print(\"No\")         \r\n",
    "\r\n",
    "\r\n",
    "    \r\n",
    "\r\n",
    "\r\n"
   ],
   "outputs": [],
   "metadata": {}
  },
  {
   "cell_type": "markdown",
   "source": [
    "## Question 13"
   ],
   "metadata": {}
  },
  {
   "cell_type": "markdown",
   "source": [],
   "metadata": {}
  },
  {
   "cell_type": "markdown",
   "source": [
    "**Write a program to print *fibonacci series* upto 10 values.**"
   ],
   "metadata": {}
  },
  {
   "cell_type": "code",
   "execution_count": 1,
   "source": [
    "n1=0\r\n",
    "n2=1\r\n",
    "n3=None\r\n",
    "print(f\"{n1}\\n {n1}\")\r\n",
    "for i in range(2,10):\r\n",
    "    n3=n1+n2\r\n",
    "    print(n3)\r\n",
    "    n1=n2\r\n",
    "    n2=n3\r\n"
   ],
   "outputs": [
    {
     "output_type": "stream",
     "name": "stdout",
     "text": [
      "0\n",
      " 0\n",
      "1\n",
      "2\n",
      "3\n",
      "5\n",
      "8\n",
      "13\n",
      "21\n",
      "34\n"
     ]
    }
   ],
   "metadata": {}
  },
  {
   "cell_type": "markdown",
   "source": [
    "## Question 14"
   ],
   "metadata": {}
  },
  {
   "cell_type": "markdown",
   "source": [
    "**Write a program to calculate the credit card balance after one year if a person only pays the minimum monthly payment required by the credit card company each month.**\n",
    "\n",
    "The following variables contain values as described below:\n",
    "\n",
    "balance - the outstanding balance on the credit card <br>\n",
    "**annualInterestRate** - annual interest rate as a decimal <br>\n",
    "**monthlyPaymentRate** - minimum monthly payment rate as a decimal\n",
    "\n",
    "**For each month, calculate statements on the monthly payment and remaining balance, and print to screen something of the following format:**\n",
    "\n",
    "**Month: 1 <br>\n",
    "**Minimum monthly payment:** 96.0 <br>\n",
    "**Remaining balance:** 4784.0 <br<\n",
    "Be sure to print out no more than two decimal digits of accuracy - so print\n",
    "\n",
    "**Remaining balance:** 813.41\n",
    "instead of\n",
    "**Remaining balance:** 813.4141998135\n",
    "\n",
    "Finally, print out the total amount paid that year and the remaining balance at the end of the year in the format: <br>\n",
    "**Total paid:** 96.0 <br>\n",
    "**Remaining balance:** 4784.0\n",
    "\n",
    "A summary of the required math is found below: <br>\n",
    "**Monthly interest rate**= (Annual interest rate) / 12.0 <br>\n",
    "**Minimum monthly payment** = (Minimum monthly payment rate) x (Previous balance) <br>\n",
    "**Monthly unpaid balance** = (Previous balance) - (Minimum monthly payment) <br>\n",
    "**Updated balance each month** = (Monthly unpaid balance) + (Monthly interest rate x Monthly unpaid balance)\n",
    "\n"
   ],
   "metadata": {}
  },
  {
   "cell_type": "code",
   "execution_count": null,
   "source": [
    "bal=int(input(\"Input your balance:\"))\r\n",
    "annualintrestrate=int(input(\"Input annual intreset rate:\"))\r\n",
    "monthlypaymentrate=int(input(\"Input monthly payment rate:\"))\r\n",
    "totalpayment=None\r\n",
    "unpaid_bal=None\r\n",
    "min_monthly_payment=None\r\n",
    "for i in range(1,13):\r\n",
    "    monthlyintrestrate=float(annualintrestrate/12)\r\n",
    "    min_monthly_payment=monthlypaymentrate*bal\r\n",
    "    totalpayment=totalpayment+min_monthly_payment\r\n",
    "    unpaid_bal=bal-min_monthly_payment\r\n",
    "    bal=unpaid_bal+(monthlyintrestrate*unpaid_bal)\r\n",
    "\r\n",
    "print(f\"Remaining balance:{float(bal)}\")     \r\n",
    "print(f\"Total paid:{float(totalpayment)}\")     \r\n",
    "\r\n",
    "\r\n",
    "\r\n"
   ],
   "outputs": [],
   "metadata": {}
  }
 ],
 "metadata": {
  "kernelspec": {
   "name": "python3",
   "display_name": "Python 3.8.8 64-bit ('base': conda)"
  },
  "language_info": {
   "codemirror_mode": {
    "name": "ipython",
    "version": 3
   },
   "file_extension": ".py",
   "mimetype": "text/x-python",
   "name": "python",
   "nbconvert_exporter": "python",
   "pygments_lexer": "ipython3",
   "version": "3.8.8"
  },
  "interpreter": {
   "hash": "f295f91d00d74a7990eff32e4f14b7624be722650303ba05094f8e26cefa92d3"
  }
 },
 "nbformat": 4,
 "nbformat_minor": 2
}