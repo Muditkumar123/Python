{
 "cells": [
  {
   "cell_type": "markdown",
   "source": [
    "# Exercise"
   ],
   "metadata": {}
  },
  {
   "cell_type": "markdown",
   "source": [
    "## Question 1"
   ],
   "metadata": {}
  },
  {
   "cell_type": "markdown",
   "source": [
    "**Write a program which accepts a sequence of comma-separated numbers from console and generate a list and a tuple which contains every number.**\r\n",
    "\r\n",
    "Suppose the following input is supplied to the program:\r\n",
    "\r\n",
    "34,67,55,33,12,98\r\n",
    "\r\n",
    "Then, the output should be:\r\n",
    "\r\n",
    "['34', '67', '55', '33', '12', '98']\r\n",
    "\r\n",
    "('34', '67', '55', '33', '12', '98')\r\n"
   ],
   "metadata": {}
  },
  {
   "cell_type": "code",
   "execution_count": null,
   "source": [
    "val = input(\"Input some comma seprated numbers : \")\r\n",
    "list = val.split(\",\")\r\n",
    "tuple = tuple(list)\r\n",
    "print(list)\r\n",
    "print(tuple)"
   ],
   "outputs": [],
   "metadata": {}
  },
  {
   "cell_type": "markdown",
   "source": [
    "## Question 2"
   ],
   "metadata": {}
  },
  {
   "cell_type": "markdown",
   "source": [
    "**What Will Be The Output Of The Following Code Snippet?**\n",
    "\n",
    "a=[1,2,3,4,5,6,7,8,9]\n",
    "\n",
    "a[::2]=10,20,30,40,50,60\n",
    "\n",
    "print(a)\n"
   ],
   "metadata": {}
  },
  {
   "cell_type": "markdown",
   "source": [
    "A. ValueError: attempt to assign sequence of size 6 to extended slice of size 5\n",
    "\n",
    "B. [10, 2, 20, 4, 30, 6, 40, 8, 50, 60]\n",
    "\n",
    "C. [1, 2, 10, 20, 30, 40, 50, 60]\n",
    "\n",
    "D. [1, 10, 3, 20, 5, 30, 7, 40, 9, 50, 60]\n"
   ],
   "metadata": {}
  },
  {
   "cell_type": "code",
   "execution_count": null,
   "source": [],
   "outputs": [],
   "metadata": {}
  },
  {
   "cell_type": "markdown",
   "source": [
    "## Question 3"
   ],
   "metadata": {}
  },
  {
   "cell_type": "markdown",
   "source": [
    "**Write a Python program to print a tuple with string formatting.**\r\n",
    "\r\n",
    "Sample tuple : (100, 200, 300)\r\n",
    "    \r\n",
    "Output : This is a tuple (100, 200, 300)"
   ],
   "metadata": {}
  },
  {
   "cell_type": "code",
   "execution_count": null,
   "source": [
    "t = (100, 200, 300)\r\n",
    "print(f\"This is a tuple {t}\")"
   ],
   "outputs": [],
   "metadata": {}
  },
  {
   "cell_type": "markdown",
   "source": [
    "## Question 4"
   ],
   "metadata": {}
  },
  {
   "cell_type": "markdown",
   "source": [
    "**Write a Python program to replace last value of tuples in a list.**\n",
    "\n",
    "Sample list: [(10, 20, 40), (40, 50, 60), (70, 80, 90)]\n",
    "    \n",
    "Expected Output: [(10, 20, 100), (40, 50, 100), (70, 80, 100)]\n"
   ],
   "metadata": {}
  },
  {
   "cell_type": "code",
   "execution_count": null,
   "source": [],
   "outputs": [],
   "metadata": {}
  },
  {
   "cell_type": "markdown",
   "source": [
    "## Question 5"
   ],
   "metadata": {}
  },
  {
   "cell_type": "markdown",
   "source": [
    "**Write a Python program to remove an empty tuple(s) from a list of tuples.**"
   ],
   "metadata": {}
  },
  {
   "cell_type": "code",
   "execution_count": 12,
   "source": [],
   "outputs": [
    {
     "output_type": "stream",
     "name": "stdout",
     "text": [
      "[('',), ('a', 'b'), ('a', 'b', 'c'), 'd']\n"
     ]
    }
   ],
   "metadata": {}
  },
  {
   "cell_type": "markdown",
   "source": [
    "## Question 6"
   ],
   "metadata": {}
  },
  {
   "cell_type": "markdown",
   "source": [
    "**Write a Python program to count the elements in a list until an element is a tuple.**"
   ],
   "metadata": {}
  },
  {
   "cell_type": "code",
   "execution_count": 13,
   "source": [
    "List=[10,20,30,40,(34,54)]"
   ],
   "outputs": [],
   "metadata": {}
  },
  {
   "cell_type": "code",
   "execution_count": null,
   "source": [],
   "outputs": [],
   "metadata": {}
  },
  {
   "cell_type": "code",
   "execution_count": null,
   "source": [],
   "outputs": [],
   "metadata": {}
  }
 ],
 "metadata": {
  "kernelspec": {
   "display_name": "Python 3",
   "language": "python",
   "name": "python3"
  },
  "language_info": {
   "codemirror_mode": {
    "name": "ipython",
    "version": 3
   },
   "file_extension": ".py",
   "mimetype": "text/x-python",
   "name": "python",
   "nbconvert_exporter": "python",
   "pygments_lexer": "ipython3",
   "version": "3.8.5"
  }
 },
 "nbformat": 4,
 "nbformat_minor": 4
}